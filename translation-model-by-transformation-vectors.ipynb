{
 "cells": [
  {
   "cell_type": "code",
   "execution_count": 1,
   "id": "2c049850",
   "metadata": {
    "execution": {
     "iopub.execute_input": "2023-05-19T17:34:38.415263Z",
     "iopub.status.busy": "2023-05-19T17:34:38.414458Z",
     "iopub.status.idle": "2023-05-19T17:34:39.718033Z",
     "shell.execute_reply": "2023-05-19T17:34:39.716993Z"
    },
    "papermill": {
     "duration": 1.315513,
     "end_time": "2023-05-19T17:34:39.720725",
     "exception": false,
     "start_time": "2023-05-19T17:34:38.405212",
     "status": "completed"
    },
    "tags": []
   },
   "outputs": [
    {
     "name": "stderr",
     "output_type": "stream",
     "text": [
      "/opt/conda/lib/python3.10/site-packages/scipy/__init__.py:146: UserWarning: A NumPy version >=1.16.5 and <1.23.0 is required for this version of SciPy (detected version 1.23.5\n",
      "  warnings.warn(f\"A NumPy version >={np_minversion} and <{np_maxversion}\"\n"
     ]
    }
   ],
   "source": [
    "import numpy as np\n",
    "import pandas as pd\n",
    "from pickle import load\n",
    "import os\n",
    "from sklearn.model_selection import train_test_split"
   ]
  },
  {
   "cell_type": "code",
   "execution_count": 2,
   "id": "2f8caad8",
   "metadata": {
    "execution": {
     "iopub.execute_input": "2023-05-19T17:34:39.738143Z",
     "iopub.status.busy": "2023-05-19T17:34:39.737520Z",
     "iopub.status.idle": "2023-05-19T17:34:39.745317Z",
     "shell.execute_reply": "2023-05-19T17:34:39.744159Z"
    },
    "papermill": {
     "duration": 0.019561,
     "end_time": "2023-05-19T17:34:39.747920",
     "exception": false,
     "start_time": "2023-05-19T17:34:39.728359",
     "status": "completed"
    },
    "tags": []
   },
   "outputs": [],
   "source": [
    "def get_dict(file_name1,file_name2):\n",
    "    \"\"\"\n",
    "    This function returns the english to french dictionary given a file where the each column corresponds to a word.\n",
    "    Check out the files this function takes in your workspace.\n",
    "    \"\"\"\n",
    "    my_file1 = pd.read_csv(file_name1, delimiter=' ')\n",
    "    my_file2 = pd.read_csv(file_name2, delimiter=' ')\n",
    "    append_file=pd.DataFrame(np.concatenate((my_file1,my_file2)))\n",
    "    dict_ = {}  # the english to french dictionary to be returned\n",
    "    for i in range(len(append_file)):\n",
    "        # indexing into the rows.\n",
    "        en = append_file.loc[i][0]\n",
    "        fr = append_file.loc[i][1]\n",
    "        dict_[en] = fr\n",
    "\n",
    "    return dict_"
   ]
  },
  {
   "cell_type": "code",
   "execution_count": 3,
   "id": "13710058",
   "metadata": {
    "execution": {
     "iopub.execute_input": "2023-05-19T17:34:39.764590Z",
     "iopub.status.busy": "2023-05-19T17:34:39.764138Z",
     "iopub.status.idle": "2023-05-19T17:34:41.633038Z",
     "shell.execute_reply": "2023-05-19T17:34:41.632175Z"
    },
    "papermill": {
     "duration": 1.880184,
     "end_time": "2023-05-19T17:34:41.635564",
     "exception": false,
     "start_time": "2023-05-19T17:34:39.755380",
     "status": "completed"
    },
    "tags": []
   },
   "outputs": [],
   "source": [
    "os.chdir(r'/kaggle/input/embedding-and-data')\n",
    "train_data=get_dict('en-fr.train.txt','en-fr.test.txt')\n",
    "\n",
    "embedding_en=load(open('en_embeddings.p','rb'))\n",
    "embedding_fr=load(open('fr_embeddings.p','rb'))"
   ]
  },
  {
   "cell_type": "code",
   "execution_count": 4,
   "id": "f37050d7",
   "metadata": {
    "execution": {
     "iopub.execute_input": "2023-05-19T17:34:41.652865Z",
     "iopub.status.busy": "2023-05-19T17:34:41.651649Z",
     "iopub.status.idle": "2023-05-19T17:34:41.659145Z",
     "shell.execute_reply": "2023-05-19T17:34:41.658410Z"
    },
    "papermill": {
     "duration": 0.018136,
     "end_time": "2023-05-19T17:34:41.661267",
     "exception": false,
     "start_time": "2023-05-19T17:34:41.643131",
     "status": "completed"
    },
    "tags": []
   },
   "outputs": [
    {
     "data": {
      "text/plain": [
       "6500"
      ]
     },
     "execution_count": 4,
     "metadata": {},
     "output_type": "execute_result"
    }
   ],
   "source": [
    "#X_train, Y_train = get_matrices(train_data, embedding_en, embedding_fr)\n",
    "#X_train.shape\n",
    "len(train_data)"
   ]
  },
  {
   "cell_type": "code",
   "execution_count": 5,
   "id": "69e262f7",
   "metadata": {
    "execution": {
     "iopub.execute_input": "2023-05-19T17:34:41.678890Z",
     "iopub.status.busy": "2023-05-19T17:34:41.677713Z",
     "iopub.status.idle": "2023-05-19T17:34:41.685432Z",
     "shell.execute_reply": "2023-05-19T17:34:41.684663Z"
    },
    "papermill": {
     "duration": 0.018699,
     "end_time": "2023-05-19T17:34:41.687558",
     "exception": false,
     "start_time": "2023-05-19T17:34:41.668859",
     "status": "completed"
    },
    "tags": []
   },
   "outputs": [],
   "source": [
    "def create_matric(data,embedding_en,embedding_fr):\n",
    "    X=[]\n",
    "    Y=[]\n",
    "    index=[]\n",
    "    english_word={i for i in embedding_en.keys()}\n",
    "    frensh_word={i for i in embedding_fr.keys()}\n",
    "    for idx,words in enumerate(data.items()):\n",
    "        en_word=words[0]\n",
    "        fr_word=words[1]\n",
    "        if en_word in english_word and fr_word in frensh_word:\n",
    "            X.append(embedding_en[en_word])\n",
    "            Y.append(embedding_fr[fr_word])\n",
    "            index.append(idx)\n",
    "            \n",
    "    X=np.array(X)\n",
    "    Y=np.array(Y)\n",
    "    \n",
    "    return X,Y,index\n",
    "            "
   ]
  },
  {
   "cell_type": "code",
   "execution_count": 6,
   "id": "6a331bdc",
   "metadata": {
    "execution": {
     "iopub.execute_input": "2023-05-19T17:34:41.705160Z",
     "iopub.status.busy": "2023-05-19T17:34:41.704123Z",
     "iopub.status.idle": "2023-05-19T17:34:41.751627Z",
     "shell.execute_reply": "2023-05-19T17:34:41.750373Z"
    },
    "papermill": {
     "duration": 0.059476,
     "end_time": "2023-05-19T17:34:41.754588",
     "exception": false,
     "start_time": "2023-05-19T17:34:41.695112",
     "status": "completed"
    },
    "tags": []
   },
   "outputs": [],
   "source": [
    "data,label,index=create_matric(train_data,embedding_en,embedding_fr)\n",
    "X_train,X_test,y_train,y_test=train_test_split(data,label,test_size=.2)"
   ]
  },
  {
   "cell_type": "code",
   "execution_count": 7,
   "id": "fdabb063",
   "metadata": {
    "execution": {
     "iopub.execute_input": "2023-05-19T17:34:41.771963Z",
     "iopub.status.busy": "2023-05-19T17:34:41.771551Z",
     "iopub.status.idle": "2023-05-19T17:34:41.777249Z",
     "shell.execute_reply": "2023-05-19T17:34:41.776060Z"
    },
    "papermill": {
     "duration": 0.017292,
     "end_time": "2023-05-19T17:34:41.779797",
     "exception": false,
     "start_time": "2023-05-19T17:34:41.762505",
     "status": "completed"
    },
    "tags": []
   },
   "outputs": [
    {
     "name": "stdout",
     "output_type": "stream",
     "text": [
      "(5096, 300)\n"
     ]
    }
   ],
   "source": [
    "print(X_train.shape)"
   ]
  },
  {
   "cell_type": "code",
   "execution_count": 8,
   "id": "8bc1f984",
   "metadata": {
    "execution": {
     "iopub.execute_input": "2023-05-19T17:34:41.797288Z",
     "iopub.status.busy": "2023-05-19T17:34:41.796861Z",
     "iopub.status.idle": "2023-05-19T17:34:41.801812Z",
     "shell.execute_reply": "2023-05-19T17:34:41.800769Z"
    },
    "papermill": {
     "duration": 0.016608,
     "end_time": "2023-05-19T17:34:41.804234",
     "exception": false,
     "start_time": "2023-05-19T17:34:41.787626",
     "status": "completed"
    },
    "tags": []
   },
   "outputs": [],
   "source": [
    "def pred(X,R):\n",
    "    \n",
    "    return np.dot(X,R)\n",
    "    "
   ]
  },
  {
   "cell_type": "code",
   "execution_count": 9,
   "id": "a3b6ca7d",
   "metadata": {
    "execution": {
     "iopub.execute_input": "2023-05-19T17:34:41.822029Z",
     "iopub.status.busy": "2023-05-19T17:34:41.821240Z",
     "iopub.status.idle": "2023-05-19T17:34:41.826852Z",
     "shell.execute_reply": "2023-05-19T17:34:41.825799Z"
    },
    "papermill": {
     "duration": 0.01721,
     "end_time": "2023-05-19T17:34:41.829221",
     "exception": false,
     "start_time": "2023-05-19T17:34:41.812011",
     "status": "completed"
    },
    "tags": []
   },
   "outputs": [],
   "source": [
    "def loss(X,Y,R):\n",
    "    \n",
    "    diff=pred(X,R)-Y\n",
    "    \n",
    "    squar=diff**2\n",
    "\n",
    "    loss=np.sum(squar)/len(Y)\n",
    "    \n",
    "    return loss\n",
    "    "
   ]
  },
  {
   "cell_type": "code",
   "execution_count": 10,
   "id": "ddbbafca",
   "metadata": {
    "execution": {
     "iopub.execute_input": "2023-05-19T17:34:41.846561Z",
     "iopub.status.busy": "2023-05-19T17:34:41.846178Z",
     "iopub.status.idle": "2023-05-19T17:34:41.851576Z",
     "shell.execute_reply": "2023-05-19T17:34:41.850432Z"
    },
    "papermill": {
     "duration": 0.016773,
     "end_time": "2023-05-19T17:34:41.853752",
     "exception": false,
     "start_time": "2023-05-19T17:34:41.836979",
     "status": "completed"
    },
    "tags": []
   },
   "outputs": [],
   "source": [
    "def gredient(X,R,Y):\n",
    "    G=np.dot(X.T,(np.dot(X,R)-Y))*2/len(Y)\n",
    "    return G"
   ]
  },
  {
   "cell_type": "code",
   "execution_count": 11,
   "id": "bf923852",
   "metadata": {
    "execution": {
     "iopub.execute_input": "2023-05-19T17:34:41.871463Z",
     "iopub.status.busy": "2023-05-19T17:34:41.871009Z",
     "iopub.status.idle": "2023-05-19T17:34:41.878760Z",
     "shell.execute_reply": "2023-05-19T17:34:41.877481Z"
    },
    "papermill": {
     "duration": 0.019697,
     "end_time": "2023-05-19T17:34:41.881166",
     "exception": false,
     "start_time": "2023-05-19T17:34:41.861469",
     "status": "completed"
    },
    "tags": []
   },
   "outputs": [],
   "source": [
    "def training(X,Y,num_iteration,alpha):\n",
    "    np.random.seed(129)\n",
    "    R=np.random.rand(X.shape[1],X.shape[1])\n",
    "    for i in range(num_iteration):\n",
    "        if i%25==0:\n",
    "            print(f'loss in iteration number {i} is {loss(X,Y,R)}')\n",
    "        gred=gredient(X,R,Y)\n",
    "        R-=alpha*gred\n",
    "    return R"
   ]
  },
  {
   "cell_type": "code",
   "execution_count": 12,
   "id": "c3e3ccc0",
   "metadata": {
    "execution": {
     "iopub.execute_input": "2023-05-19T17:34:41.898418Z",
     "iopub.status.busy": "2023-05-19T17:34:41.897957Z",
     "iopub.status.idle": "2023-05-19T17:34:41.904568Z",
     "shell.execute_reply": "2023-05-19T17:34:41.903458Z"
    },
    "papermill": {
     "duration": 0.018016,
     "end_time": "2023-05-19T17:34:41.906952",
     "exception": false,
     "start_time": "2023-05-19T17:34:41.888936",
     "status": "completed"
    },
    "tags": []
   },
   "outputs": [],
   "source": [
    "def cosine_similarity (X,Y):\n",
    "\n",
    "        dot=np.dot(X,Y)\n",
    "        \n",
    "        norm_X,norm_Y=np.linalg.norm(X),np.linalg.norm(Y)\n",
    "\n",
    "        similarity=dot/(norm_X*norm_Y)\n",
    "        return similarity\n"
   ]
  },
  {
   "cell_type": "code",
   "execution_count": 13,
   "id": "e7623d13",
   "metadata": {
    "execution": {
     "iopub.execute_input": "2023-05-19T17:34:41.924089Z",
     "iopub.status.busy": "2023-05-19T17:34:41.923668Z",
     "iopub.status.idle": "2023-05-19T17:34:41.929083Z",
     "shell.execute_reply": "2023-05-19T17:34:41.927935Z"
    },
    "papermill": {
     "duration": 0.016681,
     "end_time": "2023-05-19T17:34:41.931347",
     "exception": false,
     "start_time": "2023-05-19T17:34:41.914666",
     "status": "completed"
    },
    "tags": []
   },
   "outputs": [],
   "source": [
    "def get_words(index,Y):\n",
    "    \n",
    "    return(Y[[index]])"
   ]
  },
  {
   "cell_type": "code",
   "execution_count": 14,
   "id": "9ce119ad",
   "metadata": {
    "execution": {
     "iopub.execute_input": "2023-05-19T17:34:41.948502Z",
     "iopub.status.busy": "2023-05-19T17:34:41.948060Z",
     "iopub.status.idle": "2023-05-19T17:34:41.954484Z",
     "shell.execute_reply": "2023-05-19T17:34:41.953337Z"
    },
    "papermill": {
     "duration": 0.017495,
     "end_time": "2023-05-19T17:34:41.956657",
     "exception": false,
     "start_time": "2023-05-19T17:34:41.939162",
     "status": "completed"
    },
    "tags": []
   },
   "outputs": [],
   "source": [
    "def KNN(x,y,k=1):\n",
    "    similarity=[]\n",
    "    for words in x:\n",
    "        similarity.append(cosine_similarity(words,y))\n",
    "        \n",
    "    sort_idx=np.argsort(similarity)[::-1]    \n",
    "    \n",
    "    return sort_idx[:k]"
   ]
  },
  {
   "cell_type": "code",
   "execution_count": 15,
   "id": "38a19b0d",
   "metadata": {
    "execution": {
     "iopub.execute_input": "2023-05-19T17:34:41.974103Z",
     "iopub.status.busy": "2023-05-19T17:34:41.973068Z",
     "iopub.status.idle": "2023-05-19T17:35:04.734886Z",
     "shell.execute_reply": "2023-05-19T17:35:04.733334Z"
    },
    "papermill": {
     "duration": 22.775275,
     "end_time": "2023-05-19T17:35:04.739516",
     "exception": false,
     "start_time": "2023-05-19T17:34:41.964241",
     "status": "completed"
    },
    "scrolled": true,
    "tags": []
   },
   "outputs": [
    {
     "name": "stdout",
     "output_type": "stream",
     "text": [
      "loss in iteration number 0 is 958.599928187228\n",
      "loss in iteration number 25 is 97.27860340539138\n",
      "loss in iteration number 50 is 26.264494442948283\n",
      "loss in iteration number 75 is 9.517427492847206\n",
      "loss in iteration number 100 is 4.231978909159563\n",
      "loss in iteration number 125 is 2.2378542822680556\n",
      "loss in iteration number 150 is 1.388812657802699\n",
      "loss in iteration number 175 is 0.9948144228812664\n",
      "loss in iteration number 200 is 0.7998853683323187\n",
      "loss in iteration number 225 is 0.6985197560624948\n",
      "loss in iteration number 250 is 0.6436374151948009\n",
      "loss in iteration number 275 is 0.6129000447998622\n",
      "loss in iteration number 300 is 0.5951775844531132\n",
      "loss in iteration number 325 is 0.5846966772878475\n",
      "loss in iteration number 350 is 0.5783584314043365\n",
      "loss in iteration number 375 is 0.5744491795272226\n"
     ]
    }
   ],
   "source": [
    "R=training(X_train,y_train,400,0.8)"
   ]
  },
  {
   "cell_type": "code",
   "execution_count": 16,
   "id": "ca0b1dc0",
   "metadata": {
    "execution": {
     "iopub.execute_input": "2023-05-19T17:35:04.779615Z",
     "iopub.status.busy": "2023-05-19T17:35:04.778927Z",
     "iopub.status.idle": "2023-05-19T17:35:04.793013Z",
     "shell.execute_reply": "2023-05-19T17:35:04.791494Z"
    },
    "papermill": {
     "duration": 0.039226,
     "end_time": "2023-05-19T17:35:04.797810",
     "exception": false,
     "start_time": "2023-05-19T17:35:04.758584",
     "status": "completed"
    },
    "tags": []
   },
   "outputs": [],
   "source": [
    "def accuracy(X,Y):\n",
    "    accuracy=0\n",
    "    for index,x in enumerate(X):\n",
    "        prediction=pred(x,R)\n",
    "        idx=KNN(Y,prediction,k=1)\n",
    "        if idx==index:\n",
    "            accuracy+=1\n",
    "    accuracy=accuracy/len(X)\n",
    "    return accuracy"
   ]
  },
  {
   "cell_type": "code",
   "execution_count": 17,
   "id": "021a2709",
   "metadata": {
    "execution": {
     "iopub.execute_input": "2023-05-19T17:35:04.838835Z",
     "iopub.status.busy": "2023-05-19T17:35:04.838147Z",
     "iopub.status.idle": "2023-05-19T17:36:17.421632Z",
     "shell.execute_reply": "2023-05-19T17:36:17.419961Z"
    },
    "papermill": {
     "duration": 72.609415,
     "end_time": "2023-05-19T17:36:17.426912",
     "exception": false,
     "start_time": "2023-05-19T17:35:04.817497",
     "status": "completed"
    },
    "tags": []
   },
   "outputs": [],
   "source": [
    "accuracy=accuracy(X_test,y_test)"
   ]
  },
  {
   "cell_type": "code",
   "execution_count": 18,
   "id": "ee594336",
   "metadata": {
    "execution": {
     "iopub.execute_input": "2023-05-19T17:36:17.467932Z",
     "iopub.status.busy": "2023-05-19T17:36:17.467057Z",
     "iopub.status.idle": "2023-05-19T17:36:17.481089Z",
     "shell.execute_reply": "2023-05-19T17:36:17.479646Z"
    },
    "papermill": {
     "duration": 0.040026,
     "end_time": "2023-05-19T17:36:17.486377",
     "exception": false,
     "start_time": "2023-05-19T17:36:17.446351",
     "status": "completed"
    },
    "tags": []
   },
   "outputs": [
    {
     "data": {
      "text/plain": [
       "0.5934065934065934"
      ]
     },
     "execution_count": 18,
     "metadata": {},
     "output_type": "execute_result"
    }
   ],
   "source": [
    "accuracy"
   ]
  },
  {
   "cell_type": "code",
   "execution_count": 19,
   "id": "26865510",
   "metadata": {
    "execution": {
     "iopub.execute_input": "2023-05-19T17:36:17.506834Z",
     "iopub.status.busy": "2023-05-19T17:36:17.506419Z",
     "iopub.status.idle": "2023-05-19T17:36:17.512768Z",
     "shell.execute_reply": "2023-05-19T17:36:17.511649Z"
    },
    "papermill": {
     "duration": 0.019884,
     "end_time": "2023-05-19T17:36:17.515365",
     "exception": false,
     "start_time": "2023-05-19T17:36:17.495481",
     "status": "completed"
    },
    "tags": []
   },
   "outputs": [],
   "source": [
    "def get_translate(word,all_data,index):\n",
    "    en_words=list(all_data)\n",
    "    prediction=pred(embedding_en[word],R)\n",
    "    idx=KNN(label,prediction)\n",
    "    idx=index[idx[0]]\n",
    "    fr_word=all_data[en_words[idx]]\n",
    "    return(fr_word)\n",
    "    \n",
    "    "
   ]
  },
  {
   "cell_type": "code",
   "execution_count": 20,
   "id": "54369348",
   "metadata": {
    "execution": {
     "iopub.execute_input": "2023-05-19T17:36:17.536368Z",
     "iopub.status.busy": "2023-05-19T17:36:17.535982Z",
     "iopub.status.idle": "2023-05-19T17:36:17.737680Z",
     "shell.execute_reply": "2023-05-19T17:36:17.736838Z"
    },
    "papermill": {
     "duration": 0.215208,
     "end_time": "2023-05-19T17:36:17.739878",
     "exception": false,
     "start_time": "2023-05-19T17:36:17.524670",
     "status": "completed"
    },
    "tags": []
   },
   "outputs": [
    {
     "data": {
      "text/plain": [
       "'mais'"
      ]
     },
     "execution_count": 20,
     "metadata": {},
     "output_type": "execute_result"
    }
   ],
   "source": [
    "get_translate('but',train_data,index)"
   ]
  },
  {
   "cell_type": "code",
   "execution_count": null,
   "id": "12c278ba",
   "metadata": {
    "papermill": {
     "duration": 0.008936,
     "end_time": "2023-05-19T17:36:17.757982",
     "exception": false,
     "start_time": "2023-05-19T17:36:17.749046",
     "status": "completed"
    },
    "tags": []
   },
   "outputs": [],
   "source": []
  },
  {
   "cell_type": "code",
   "execution_count": null,
   "id": "228a3bdd",
   "metadata": {
    "papermill": {
     "duration": 0.008859,
     "end_time": "2023-05-19T17:36:17.776163",
     "exception": false,
     "start_time": "2023-05-19T17:36:17.767304",
     "status": "completed"
    },
    "tags": []
   },
   "outputs": [],
   "source": []
  }
 ],
 "metadata": {
  "kernelspec": {
   "display_name": "Python 3",
   "language": "python",
   "name": "python3"
  },
  "language_info": {
   "codemirror_mode": {
    "name": "ipython",
    "version": 3
   },
   "file_extension": ".py",
   "mimetype": "text/x-python",
   "name": "python",
   "nbconvert_exporter": "python",
   "pygments_lexer": "ipython3",
   "version": "3.10.10"
  },
  "papermill": {
   "default_parameters": {},
   "duration": 112.589424,
   "end_time": "2023-05-19T17:36:18.707494",
   "environment_variables": {},
   "exception": null,
   "input_path": "__notebook__.ipynb",
   "output_path": "__notebook__.ipynb",
   "parameters": {},
   "start_time": "2023-05-19T17:34:26.118070",
   "version": "2.4.0"
  }
 },
 "nbformat": 4,
 "nbformat_minor": 5
}
